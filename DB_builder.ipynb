{
 "cells": [
  {
   "cell_type": "code",
   "execution_count": 7,
   "metadata": {},
   "outputs": [],
   "source": [
    "\n",
    "import pandas as pd\n",
    "import numpy as np\n",
    "import gpxpy\n",
    "import gpxpy.gpx\n",
    "import matplotlib.pyplot as plt\n",
    "import folium\n",
    "from IPython.display import display\n",
    "import plotly.express as px\n",
    "import haversine as hs\n",
    "import plotly.graph_objects as go\n",
    "import tqdm\n",
    "import math\n",
    "import requests\n",
    "\n"
   ]
  },
  {
   "cell_type": "code",
   "execution_count": 8,
   "metadata": {},
   "outputs": [],
   "source": [
    "def haversine_distance(lat1, lon1, lat2, lon2) -> float:\n",
    "    distance = hs.haversine(\n",
    "        point1=(lat1, lon1),\n",
    "        point2=(lat2, lon2),\n",
    "        unit=hs.Unit.METERS\n",
    "    )\n",
    "    return np.round(distance, 2)\n",
    "\n",
    "def attribute_calc(gpx):\n",
    "    route_info = []\n",
    "\n",
    "    for track in gpx.tracks:\n",
    "        for segment in track.segments:\n",
    "            for point in segment.points:\n",
    "                route_info.append({\n",
    "                    'latitude': point.latitude,\n",
    "                    'longitude': point.longitude,\n",
    "                    'elevation': point.elevation\n",
    "                })\n",
    "    route_df = pd.DataFrame(route_info)\n",
    "    \n",
    "    \n",
    "    haversine_distance(\n",
    "        lat1=route_df.iloc[0]['latitude'],\n",
    "        lon1=route_df.iloc[0]['longitude'],\n",
    "        lat2=route_df.iloc[1]['latitude'],\n",
    "        lon2=route_df.iloc[1]['longitude']\n",
    "    )    \n",
    "        \n",
    "    distances = [np.nan]\n",
    "\n",
    "    for i in range(len(route_df)):\n",
    "        if i == 0:\n",
    "            continue\n",
    "        else:\n",
    "            distances.append(haversine_distance(\n",
    "                lat1=route_df.iloc[i - 1]['latitude'],\n",
    "                lon1=route_df.iloc[i - 1]['longitude'],\n",
    "                lat2=route_df.iloc[i]['latitude'],\n",
    "                lon2=route_df.iloc[i]['longitude']\n",
    "            ))\n",
    "            \n",
    "    route_df['distance'] = distances\n",
    "    \n",
    "    route_df['elevation_diff'] = route_df['elevation'].diff()\n",
    "\n",
    "    route_df[route_df['elevation_diff'] >= 0]['elevation_diff'].sum()\n",
    "    route_df['distance'].sum()\n",
    "    route_df['cum_elevation'] = route_df['elevation_diff'].cumsum()\n",
    "    route_df['cum_distance'] = route_df['distance'].cumsum()\n",
    "    route_df = route_df.fillna(0)\n",
    "    \n",
    "    return(route_df)\n",
    "\n",
    "def calcBearing (lat1, long1, lat2, long2):\n",
    "    dLon = (long2 - long1)\n",
    "    x = math.cos(math.radians(lat2)) * math.sin(math.radians(dLon))\n",
    "    y = math.cos(math.radians(lat1)) * math.sin(math.radians(lat2)) - math.sin(math.radians(lat1)) * math.cos(math.radians(lat2)) * math.cos(math.radians(dLon))\n",
    "    bearing = math.atan2(x,y)   # use atan2 to determine the quadrant\n",
    "    bearing = math.degrees(bearing)\n",
    "\n",
    "    return bearing\n",
    "\n",
    "def calcNSEW(lat1, long1, lat2, long2):\n",
    "    points = [\"north\", \"north east\", \"east\", \"south east\", \"south\", \"south west\", \"west\", \"north west\"]\n",
    "    bearing = calcBearing(lat1, long1, lat2, long2)\n",
    "    bearing += 22.5\n",
    "    bearing = bearing % 360\n",
    "    bearing = int(bearing / 45) # values 0 to 7\n",
    "    NSEW = points [bearing]\n",
    "\n",
    "    return NSEW\n",
    "\n",
    "def infogatherer(gpx):\n",
    "    \n",
    "    for track in gpx.tracks:\n",
    "        TrackName = track.name\n",
    "        #print(gpx.metadata.author)\n",
    "        TrackDesc = track.description\n",
    "    RouteDetails = attribute_calc(gpx)\n",
    "    Info = {}\n",
    "    Info[\"Date\"] = track.name\n",
    "    Info[\"Start\"] = track.description\n",
    "    LengthDraft = RouteDetails.distance.sum()/1000\n",
    "    Info[\"Length\"] = LengthDraft.round(2)\n",
    "    Info[\"Elevation Gain\"] = int(RouteDetails[RouteDetails['elevation_diff'] > 0]['elevation_diff'].sum().round())\n",
    "    lat_start = RouteDetails.iloc[0][0]\n",
    "    lon_start = RouteDetails.iloc[0][1]\n",
    "    lat_center = RouteDetails.latitude.median()\n",
    "    lon_center = RouteDetails.longitude.median()\n",
    "    Info[\"Heading\"] = calcNSEW( lat_start, lon_start, lat_center, lon_center)\n",
    "    \n",
    "    return(Info)\n",
    "\n"
   ]
  },
  {
   "cell_type": "code",
   "execution_count": 9,
   "metadata": {},
   "outputs": [],
   "source": [
    "#print (requests.head('https://raw.githubusercontent.com/MannuelTe/weekdayDB/files/010.06.2021.gpx').status_code)\n",
    "viable_url = []\n",
    "for y in [20,21,22]:\n",
    "    for m in range(0,13):\n",
    "        nice_m = \"{:02d}\".format(m)\n",
    "        for d in range(0,31):\n",
    "            nice_d = \"{:02d}\".format(d)\n",
    "            url_pot = fr'https://raw.githubusercontent.com/MannuelTe/weekdayDB/files/{nice_d}.{nice_m}.20{y}.gpx'\n",
    "            if requests.head(url_pot).status_code == 200:\n",
    "                print(fr\"{nice_d}.{nice_m}.20{y}\")\n",
    "                viable_url.append(url_pot)"
   ]
  },
  {
   "cell_type": "code",
   "execution_count": null,
   "metadata": {},
   "outputs": [
    {
     "data": {
      "text/plain": [
       "45"
      ]
     },
     "execution_count": 4,
     "metadata": {},
     "output_type": "execute_result"
    }
   ],
   "source": [
    "len(viable_url)\n",
    "    "
   ]
  },
  {
   "cell_type": "code",
   "execution_count": null,
   "metadata": {},
   "outputs": [
    {
     "name": "stderr",
     "output_type": "stream",
     "text": [
      "100%|██████████| 45/45 [00:24<00:00,  1.82it/s]\n"
     ]
    },
    {
     "data": {
      "text/html": [
       "<div>\n",
       "<style scoped>\n",
       "    .dataframe tbody tr th:only-of-type {\n",
       "        vertical-align: middle;\n",
       "    }\n",
       "\n",
       "    .dataframe tbody tr th {\n",
       "        vertical-align: top;\n",
       "    }\n",
       "\n",
       "    .dataframe thead th {\n",
       "        text-align: right;\n",
       "    }\n",
       "</style>\n",
       "<table border=\"1\" class=\"dataframe\">\n",
       "  <thead>\n",
       "    <tr style=\"text-align: right;\">\n",
       "      <th></th>\n",
       "      <th>Date</th>\n",
       "      <th>Start</th>\n",
       "      <th>Length</th>\n",
       "      <th>Elevation Gain</th>\n",
       "      <th>Heading</th>\n",
       "    </tr>\n",
       "  </thead>\n",
       "  <tbody>\n",
       "    <tr>\n",
       "      <th>0</th>\n",
       "      <td>2020-05-10</td>\n",
       "      <td>Frohburg</td>\n",
       "      <td>76.71</td>\n",
       "      <td>1367</td>\n",
       "      <td>south east</td>\n",
       "    </tr>\n",
       "    <tr>\n",
       "      <th>1</th>\n",
       "      <td>2020-06-09</td>\n",
       "      <td>Fork</td>\n",
       "      <td>72.29</td>\n",
       "      <td>1012</td>\n",
       "      <td>south</td>\n",
       "    </tr>\n",
       "    <tr>\n",
       "      <th>2</th>\n",
       "      <td>2020-06-11</td>\n",
       "      <td>Frohburg</td>\n",
       "      <td>74.85</td>\n",
       "      <td>1109</td>\n",
       "      <td>south east</td>\n",
       "    </tr>\n",
       "    <tr>\n",
       "      <th>3</th>\n",
       "      <td>2020-06-16</td>\n",
       "      <td>Fork</td>\n",
       "      <td>76.18</td>\n",
       "      <td>1328</td>\n",
       "      <td>south</td>\n",
       "    </tr>\n",
       "    <tr>\n",
       "      <th>4</th>\n",
       "      <td>2020-06-30</td>\n",
       "      <td>Frohburg</td>\n",
       "      <td>78.18</td>\n",
       "      <td>1362</td>\n",
       "      <td>south east</td>\n",
       "    </tr>\n",
       "  </tbody>\n",
       "</table>\n",
       "</div>"
      ],
      "text/plain": [
       "        Date     Start  Length  Elevation Gain     Heading\n",
       "0 2020-05-10  Frohburg   76.71            1367  south east\n",
       "1 2020-06-09      Fork   72.29            1012       south\n",
       "2 2020-06-11  Frohburg   74.85            1109  south east\n",
       "3 2020-06-16      Fork   76.18            1328       south\n",
       "4 2020-06-30  Frohburg   78.18            1362  south east"
      ]
     },
     "execution_count": 5,
     "metadata": {},
     "output_type": "execute_result"
    }
   ],
   "source": [
    "daframe_draft = []\n",
    "for url in tqdm.tqdm(viable_url):\n",
    "    download = requests.get(url).content.decode(\"UTF-8\")\n",
    "\n",
    "    #parse gpx\n",
    "    gpx  = gpxpy.parse(download)\n",
    "    daframe_draft.append(infogatherer(gpx))\n",
    "RoutesDF = pd.DataFrame.from_dict(daframe_draft)\n",
    "RoutesDF[\"Date\"] = pd.to_datetime(RoutesDF[\"Date\"], dayfirst=True)\n",
    "RoutesDF.head()"
   ]
  },
  {
   "cell_type": "code",
   "execution_count": null,
   "metadata": {},
   "outputs": [],
   "source": [
    "csv_path = r\"C:\\Users\\trach\\Desktop\\Route_DB\\routes_DB.csv\"\n",
    "RoutesDF.to_csv(csv_path, index = False)"
   ]
  },
  {
   "attachments": {},
   "cell_type": "markdown",
   "metadata": {},
   "source": [
    "**UPLOAD THE NEW CSV TO GITHUB**"
   ]
  }
 ],
 "metadata": {
  "kernelspec": {
   "display_name": "Geodata",
   "language": "python",
   "name": "python3"
  },
  "language_info": {
   "codemirror_mode": {
    "name": "ipython",
    "version": 3
   },
   "file_extension": ".py",
   "mimetype": "text/x-python",
   "name": "python",
   "nbconvert_exporter": "python",
   "pygments_lexer": "ipython3",
   "version": "3.10.8"
  },
  "orig_nbformat": 4,
  "vscode": {
   "interpreter": {
    "hash": "6219b201a9100597a1cd77f56ef2d88318d5ce407f2e8b95d90a63fba77308da"
   }
  }
 },
 "nbformat": 4,
 "nbformat_minor": 2
}
